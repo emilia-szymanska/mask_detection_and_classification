{
  "nbformat": 4,
  "nbformat_minor": 0,
  "metadata": {
    "colab": {
      "name": "YOLO_getting_dataset_from_kaggle.ipynb",
      "provenance": [],
      "collapsed_sections": [],
      "authorship_tag": "ABX9TyNEmSCbxlAePAR9QQYp3h89"
    },
    "kernelspec": {
      "name": "python3",
      "display_name": "Python 3"
    },
    "language_info": {
      "name": "python"
    }
  },
  "cells": [
    {
      "cell_type": "markdown",
      "metadata": {
        "id": "uYVWLH-TwceX"
      },
      "source": [
        "This notebook provides code for downloading [dataset](https://www.kaggle.com/andrewmvd/face-mask-detection) from Kaggle. Make sure to create a directory, whose path is used in setting the environment and navigating, in which there is a **kaggle.json** file extracted from your Kaggle account as API token."
      ]
    },
    {
      "cell_type": "code",
      "metadata": {
        "id": "mogpCFk5hXYk"
      },
      "source": [
        "# mount Google Drive \n",
        "from google.colab import drive\n",
        "drive.mount('/content/gdrive')"
      ],
      "execution_count": null,
      "outputs": []
    },
    {
      "cell_type": "code",
      "metadata": {
        "id": "_LvOTwBphcLx"
      },
      "source": [
        "# set kaggle environment\n",
        "import os\n",
        "os.environ['KAGGLE_CONFIG_DIR'] = \"/content/gdrive/My Drive/Kaggle\""
      ],
      "execution_count": null,
      "outputs": []
    },
    {
      "cell_type": "code",
      "metadata": {
        "id": "tK0RXopQhyVB"
      },
      "source": [
        "# navigate to the directory with Kaggle datasets\n",
        "%cd \"/content/gdrive/My Drive/Kaggle\""
      ],
      "execution_count": null,
      "outputs": []
    },
    {
      "cell_type": "code",
      "metadata": {
        "id": "K5Lky3Pvhy2G"
      },
      "source": [
        "# download the dataset\n",
        "!kaggle datasets download -d andrewmvd/face-mask-detection"
      ],
      "execution_count": null,
      "outputs": []
    },
    {
      "cell_type": "code",
      "metadata": {
        "id": "sw79FyPIiMKu"
      },
      "source": [
        "#unzip the zip files and delete zips afterwards\n",
        "!unzip \\*.zip  && rm *.zip"
      ],
      "execution_count": null,
      "outputs": []
    },
    {
      "cell_type": "code",
      "metadata": {
        "id": "cgrdkw8niMal"
      },
      "source": [
        "# create a directory for the dataset and move images/ with annotations/ dirs to the newly created directory \n",
        "!mkdir mask_detection_853\n",
        "!mv annotations/ mask_detection_853/.\n",
        "!mv images/ mask_detection_853/."
      ],
      "execution_count": null,
      "outputs": []
    }
  ]
}